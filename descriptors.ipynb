{
 "cells": [
  {
   "cell_type": "markdown",
   "id": "a590ca2b-e619-46e5-a861-a588533e6008",
   "metadata": {},
   "source": [
    "### Descriptors\n",
    "\n",
    "Descriptors are Python objects that implement a method of the descriptor protocol, which gives you the ability to create objects that have special behavior when they’re accessed as attributes of other objects."
   ]
  },
  {
   "cell_type": "code",
   "execution_count": 34,
   "id": "2f73595e-0df6-4955-825d-ead1cb14ecaa",
   "metadata": {},
   "outputs": [],
   "source": [
    "class AgeValidator:\n",
    "    def __set_name__(self, owner:type, name:str) -> None:\n",
    "        self.prop_name = f\"_{name}\"\n",
    "\n",
    "\n",
    "    def __get__(self, obj:\"Person\", objtype: type | None = None) -> int:\n",
    "        return getattr(obj, self.prop_name)\n",
    "\n",
    "    def __set__(self, obj:\"Person\", value: int) -> None:\n",
    "        if value < 0:\n",
    "            raise ValueError(f\"{self.prop_name} mut be positive\")\n",
    "        \n",
    "        setattr(obj, self.prop_name, value)\n",
    "    \n",
    "\n",
    "class Person:\n",
    "    _age: int\n",
    "    age = AgeValidator()\n",
    "\n",
    "    def __init__(self, name:str, age:int) -> None:\n",
    "        self.name = name;\n",
    "        self.age = age\n",
    "\n",
    "\n",
    "    "
   ]
  },
  {
   "cell_type": "code",
   "execution_count": 35,
   "id": "62836ed8-8c05-4e2d-b143-930b4bae99b2",
   "metadata": {},
   "outputs": [
    {
     "name": "stdout",
     "output_type": "stream",
     "text": [
      "30\n"
     ]
    }
   ],
   "source": [
    "person = Person(\"Deepak\", 30)\n",
    "print(person.age)"
   ]
  },
  {
   "cell_type": "code",
   "execution_count": 37,
   "id": "971af2aa-5b40-4683-a803-8427b8b81af5",
   "metadata": {},
   "outputs": [
    {
     "ename": "ValueError",
     "evalue": "_age mut be positive",
     "output_type": "error",
     "traceback": [
      "\u001b[1;31m---------------------------------------------------------------------------\u001b[0m",
      "\u001b[1;31mValueError\u001b[0m                                Traceback (most recent call last)",
      "Cell \u001b[1;32mIn[37], line 2\u001b[0m\n\u001b[0;32m      1\u001b[0m \u001b[38;5;66;03m# invalid age \u001b[39;00m\n\u001b[1;32m----> 2\u001b[0m \u001b[43mperson\u001b[49m\u001b[38;5;241;43m.\u001b[39;49m\u001b[43mage\u001b[49m \u001b[38;5;241m=\u001b[39m \u001b[38;5;241m-\u001b[39m\u001b[38;5;241m10\u001b[39m\n",
      "Cell \u001b[1;32mIn[34], line 11\u001b[0m, in \u001b[0;36mAgeValidator.__set__\u001b[1;34m(self, obj, value)\u001b[0m\n\u001b[0;32m      9\u001b[0m \u001b[38;5;28;01mdef\u001b[39;00m \u001b[38;5;21m__set__\u001b[39m(\u001b[38;5;28mself\u001b[39m, obj:\u001b[38;5;124m\"\u001b[39m\u001b[38;5;124mPerson\u001b[39m\u001b[38;5;124m\"\u001b[39m, value: \u001b[38;5;28mint\u001b[39m) \u001b[38;5;241m-\u001b[39m\u001b[38;5;241m>\u001b[39m \u001b[38;5;28;01mNone\u001b[39;00m:\n\u001b[0;32m     10\u001b[0m     \u001b[38;5;28;01mif\u001b[39;00m value \u001b[38;5;241m<\u001b[39m \u001b[38;5;241m0\u001b[39m:\n\u001b[1;32m---> 11\u001b[0m         \u001b[38;5;28;01mraise\u001b[39;00m \u001b[38;5;167;01mValueError\u001b[39;00m(\u001b[38;5;124mf\u001b[39m\u001b[38;5;124m\"\u001b[39m\u001b[38;5;132;01m{\u001b[39;00m\u001b[38;5;28mself\u001b[39m\u001b[38;5;241m.\u001b[39mprop_name\u001b[38;5;132;01m}\u001b[39;00m\u001b[38;5;124m mut be positive\u001b[39m\u001b[38;5;124m\"\u001b[39m)\n\u001b[0;32m     13\u001b[0m     \u001b[38;5;28msetattr\u001b[39m(obj, \u001b[38;5;28mself\u001b[39m\u001b[38;5;241m.\u001b[39mprop_name, value)\n",
      "\u001b[1;31mValueError\u001b[0m: _age mut be positive"
     ]
    }
   ],
   "source": [
    "# invalid age \n",
    "person.age = -10"
   ]
  },
  {
   "cell_type": "code",
   "execution_count": null,
   "id": "a969e530-d4ec-487e-aae0-ed905c075d7f",
   "metadata": {},
   "outputs": [],
   "source": []
  }
 ],
 "metadata": {
  "kernelspec": {
   "display_name": "Python 3 (ipykernel)",
   "language": "python",
   "name": "python3"
  },
  "language_info": {
   "codemirror_mode": {
    "name": "ipython",
    "version": 3
   },
   "file_extension": ".py",
   "mimetype": "text/x-python",
   "name": "python",
   "nbconvert_exporter": "python",
   "pygments_lexer": "ipython3",
   "version": "3.12.7"
  }
 },
 "nbformat": 4,
 "nbformat_minor": 5
}
