{
 "cells": [
  {
   "cell_type": "markdown",
   "id": "a590ca2b-e619-46e5-a861-a588533e6008",
   "metadata": {},
   "source": [
    "### Decorator\n",
    "Changes the behavior of a function without having to change the function code itself"
   ]
  },
  {
   "cell_type": "code",
   "execution_count": 1,
   "id": "55c98a7b-4df3-4c4b-9459-689addc1a855",
   "metadata": {},
   "outputs": [],
   "source": [
    "from functools import wraps\n",
    "from time import perf_counter"
   ]
  },
  {
   "cell_type": "code",
   "execution_count": 2,
   "id": "2f73595e-0df6-4955-825d-ead1cb14ecaa",
   "metadata": {},
   "outputs": [
    {
     "name": "stdout",
     "output_type": "stream",
     "text": [
      "Calling with ('Deepak',) {}\n",
      "Hello Deepak\n",
      "Return value None\n"
     ]
    }
   ],
   "source": [
    "# logger decorator which print arguments before calling an actual function and then log the return value\n",
    "def logger(func):\n",
    "    @wraps(func)\n",
    "    def wrapper(*args, **kwargs):\n",
    "        print(f'Calling with {args} {kwargs}')\n",
    "        result = func(*args, **kwargs)\n",
    "        print(f'Return value {result}')\n",
    "        return result\n",
    "    return wrapper\n",
    "\n",
    "@logger\n",
    "def greet(name):\n",
    "    \"\"\" Greeting \"\"\"\n",
    "    print(f'Hello {name}')\n",
    "\n",
    "greet('Deepak')\n",
    "\n",
    "# this is equivalent Pyhton expression is \n",
    "# greet = logger(greet)\n"
   ]
  },
  {
   "cell_type": "markdown",
   "id": "1f6e33f0-f1bf-40ec-842c-807dbe803f9a",
   "metadata": {},
   "source": [
    "# Decorator with argumanets\n",
    "<li>Decorators with arguments are built on top of standard decorators. </li>\n",
    "<li>A decorators with arguments is defined as a function that returns a standard decorator</li>\n",
    "    \n",
    "```python\n",
    "@my_decorator('foo')\n",
    "def my_function(a,b):\n",
    "    return a+b\n",
    "# The equivalent Python expression is\n",
    "my_fuction = my_decorator('foo')my_function\n",
    "```\n"
   ]
  },
  {
   "cell_type": "code",
   "execution_count": 3,
   "id": "52c0dac7-4954-4224-80ce-16eba3347be2",
   "metadata": {},
   "outputs": [
    {
     "name": "stdout",
     "output_type": "stream",
     "text": [
      "Result is: 25\n"
     ]
    }
   ],
   "source": [
    "def multiplier(by=None):\n",
    "    def decorator(func):\n",
    "        @wraps(func)\n",
    "        def wrapper(*args, **kwargs):\n",
    "            if by is None:\n",
    "                return func(*args, **kwargs)\n",
    "            else:    \n",
    "                return by * func(*args, **kwargs)\n",
    "        return wrapper\n",
    "    return decorator\n",
    "\n",
    "@multiplier(5)\n",
    "def add(a,b):\n",
    "    return a+b\n",
    "\n",
    "\n",
    "print(f\"Result is: {add(3,2)}\")"
   ]
  },
  {
   "cell_type": "code",
   "execution_count": 5,
   "id": "f4976b85-11c7-42ba-ba94-8c081bda907c",
   "metadata": {},
   "outputs": [
    {
     "name": "stdout",
     "output_type": "stream",
     "text": [
      "say_hello called 1 times\n",
      "Hello World\n",
      "say_hello called 2 times\n",
      "Hello Boston\n",
      "say_hello called 3 times\n",
      "Hello USA\n"
     ]
    }
   ],
   "source": [
    "# Class Decorator\n",
    "\n",
    "class Tracker:\n",
    "\n",
    "    def __init__(self, func):\n",
    "        self.func = func\n",
    "        self.call_count = 0\n",
    "\n",
    "    def __call__(self, *args, **kwargs):\n",
    "        self.call_count += 1\n",
    "        print(f\"{self.func.__name__} called {self.call_count} times\")\n",
    "        return self.func(*args, **kwargs)\n",
    "\n",
    "@Tracker\n",
    "def say_hello(name):\n",
    "    print(f'Hello {name}')\n",
    "\n",
    "say_hello('World')\n",
    "say_hello('Boston')\n",
    "say_hello('USA')"
   ]
  },
  {
   "cell_type": "code",
   "execution_count": null,
   "id": "62836ed8-8c05-4e2d-b143-930b4bae99b2",
   "metadata": {},
   "outputs": [],
   "source": []
  }
 ],
 "metadata": {
  "kernelspec": {
   "display_name": "Python 3 (ipykernel)",
   "language": "python",
   "name": "python3"
  },
  "language_info": {
   "codemirror_mode": {
    "name": "ipython",
    "version": 3
   },
   "file_extension": ".py",
   "mimetype": "text/x-python",
   "name": "python",
   "nbconvert_exporter": "python",
   "pygments_lexer": "ipython3",
   "version": "3.12.7"
  }
 },
 "nbformat": 4,
 "nbformat_minor": 5
}
