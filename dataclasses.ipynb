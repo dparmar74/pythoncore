{
 "cells": [
  {
   "cell_type": "code",
   "execution_count": 21,
   "id": "bb095a12-8834-47bb-b76a-30222a32a0b7",
   "metadata": {},
   "outputs": [],
   "source": [
    "from dataclasses import dataclass, KW_ONLY"
   ]
  },
  {
   "cell_type": "code",
   "execution_count": 5,
   "id": "b643aeff-354b-4fab-8faf-72a628ad6430",
   "metadata": {},
   "outputs": [],
   "source": [
    "@dataclass\n",
    "class Person:\n",
    "    name: str\n",
    "    age: int\n",
    "    gender: str\n",
    "    "
   ]
  },
  {
   "cell_type": "code",
   "execution_count": 7,
   "id": "349b3e91-9eee-4227-951a-6354d9f52007",
   "metadata": {},
   "outputs": [
    {
     "name": "stdout",
     "output_type": "stream",
     "text": [
      "Person(name='Deepak', age=30, gender='male')\n"
     ]
    }
   ],
   "source": [
    "p = Person(\"Deepak\", 30, \"male\")\n",
    "print(p)"
   ]
  },
  {
   "cell_type": "markdown",
   "id": "f01fe63b-f836-4135-8093-7e9c40677695",
   "metadata": {},
   "source": [
    "# With KW ONLY"
   ]
  },
  {
   "cell_type": "code",
   "execution_count": 9,
   "id": "498ca989-b158-4bbe-81ff-9526d79f0ffb",
   "metadata": {},
   "outputs": [],
   "source": [
    "@dataclass\n",
    "class Person:\n",
    "    name: str\n",
    "    age: int\n",
    "    _: KW_ONLY\n",
    "    gender: str"
   ]
  },
  {
   "cell_type": "code",
   "execution_count": 10,
   "id": "f1db3e93-68df-468d-982b-fef488709b63",
   "metadata": {},
   "outputs": [
    {
     "name": "stdout",
     "output_type": "stream",
     "text": [
      "Person(name='Deepak', age=30, gender='male')\n"
     ]
    }
   ],
   "source": [
    "p = Person(\"Deepak\", 30, gender=\"male\")\n",
    "print(p)\n"
   ]
  },
  {
   "cell_type": "markdown",
   "id": "dbad4f89-5084-4640-8d1a-ca7b86c2ffbc",
   "metadata": {},
   "source": [
    "# immutable class"
   ]
  },
  {
   "cell_type": "code",
   "execution_count": 13,
   "id": "e1c242b6-1bf5-4051-97f7-6e3e6d4f86ee",
   "metadata": {},
   "outputs": [],
   "source": [
    "@dataclass(frozen=True)\n",
    "class Person:\n",
    "    name: str\n",
    "    age: int\n",
    "    _: KW_ONLY\n",
    "    gender: str"
   ]
  },
  {
   "cell_type": "code",
   "execution_count": 16,
   "id": "85abf0e4-ed2f-4245-b967-aa12ea3ab4c3",
   "metadata": {},
   "outputs": [
    {
     "name": "stdout",
     "output_type": "stream",
     "text": [
      "Person(name='Deepak', age=30, gender='male')\n"
     ]
    },
    {
     "ename": "FrozenInstanceError",
     "evalue": "cannot assign to field 'age'",
     "output_type": "error",
     "traceback": [
      "\u001b[1;31m---------------------------------------------------------------------------\u001b[0m",
      "\u001b[1;31mFrozenInstanceError\u001b[0m                       Traceback (most recent call last)",
      "Cell \u001b[1;32mIn[16], line 5\u001b[0m\n\u001b[0;32m      2\u001b[0m \u001b[38;5;28mprint\u001b[39m(p)\n\u001b[0;32m      4\u001b[0m \u001b[38;5;66;03m# Error as this class is immutable\u001b[39;00m\n\u001b[1;32m----> 5\u001b[0m \u001b[43mp\u001b[49m\u001b[38;5;241;43m.\u001b[39;49m\u001b[43mage\u001b[49m\u001b[38;5;241m=\u001b[39m\u001b[38;5;241m32\u001b[39m\n",
      "File \u001b[1;32m<string>:4\u001b[0m, in \u001b[0;36m__setattr__\u001b[1;34m(self, name, value)\u001b[0m\n",
      "\u001b[1;31mFrozenInstanceError\u001b[0m: cannot assign to field 'age'"
     ]
    }
   ],
   "source": [
    "p = Person(\"Deepak\", 30, gender=\"male\")\n",
    "print(p)\n",
    "\n",
    "# Error as this class is immutable\n",
    "p.age=32"
   ]
  },
  {
   "cell_type": "code",
   "execution_count": null,
   "id": "d24c8d2b-b3b4-4144-a343-7fffb7ffbd22",
   "metadata": {},
   "outputs": [],
   "source": []
  }
 ],
 "metadata": {
  "kernelspec": {
   "display_name": "Python 3 (ipykernel)",
   "language": "python",
   "name": "python3"
  },
  "language_info": {
   "codemirror_mode": {
    "name": "ipython",
    "version": 3
   },
   "file_extension": ".py",
   "mimetype": "text/x-python",
   "name": "python",
   "nbconvert_exporter": "python",
   "pygments_lexer": "ipython3",
   "version": "3.12.7"
  }
 },
 "nbformat": 4,
 "nbformat_minor": 5
}
