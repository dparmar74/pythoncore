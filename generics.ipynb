{
 "cells": [
  {
   "cell_type": "code",
   "execution_count": 4,
   "id": "a3c11f7c-92f7-402a-99b8-2a8aa95c5026",
   "metadata": {},
   "outputs": [],
   "source": [
    "from dataclasses import dataclass\n",
    "\n",
    "@dataclass()\n",
    "class Human:\n",
    "    name: str = \"Deepak\"\n",
    "\n",
    "\n",
    "@dataclass()\n",
    "class Animal:\n",
    "    name: str = \"Dog\"\n",
    "\n",
    "\n",
    "class House[T]:\n",
    "    def __init__(self) -> None:\n",
    "        self.items: list[T] = []\n",
    "\n",
    "    def add(self, item: T) -> None:\n",
    "        self.items.append(item)\n",
    "\n",
    "    def remove(self, item: T) -> None:\n",
    "        self.items.remove(item)\n",
    "\n",
    "\n",
    "class AnimalHouse(House[Animal]):\n",
    "    pass"
   ]
  },
  {
   "cell_type": "code",
   "execution_count": 10,
   "id": "6d3979be-9ae5-4575-b90a-528175a37dc0",
   "metadata": {},
   "outputs": [],
   "source": [
    "human_house = House[Human]()\n",
    "human_house.add(Human())"
   ]
  },
  {
   "cell_type": "code",
   "execution_count": 11,
   "id": "bb73e517-d93d-4010-a628-debddc448baf",
   "metadata": {},
   "outputs": [],
   "source": [
    "# this should error out if you use static type check in your project  \n",
    "human_house.add(Animal())"
   ]
  },
  {
   "cell_type": "code",
   "execution_count": 13,
   "id": "fd92b73e-d257-4b2a-b4b0-f856f6e85365",
   "metadata": {},
   "outputs": [],
   "source": [
    "animal_house = AnimalHouse()\n",
    "animal_house.add(Animal())"
   ]
  },
  {
   "cell_type": "code",
   "execution_count": 14,
   "id": "0aefb46f-15c9-430d-8d7b-5b2c5df250db",
   "metadata": {},
   "outputs": [],
   "source": [
    "# this should error out if you use static type check in your project  \n",
    "animal_house.add(Human())"
   ]
  },
  {
   "cell_type": "markdown",
   "id": "06afe08b-d2ea-4b19-b53d-498fd97aa2f5",
   "metadata": {},
   "source": [
    "# Static  type check for environment variable using generics.  "
   ]
  },
  {
   "cell_type": "code",
   "execution_count": 17,
   "id": "2b89ceb7-7a1b-466f-87f1-cb0f1d180b6d",
   "metadata": {},
   "outputs": [],
   "source": [
    "# static type check for environment variable.  \n",
    "\n",
    "import os\n",
    "from typing import TypeVar, Callable, cast, overload\n",
    "\n",
    "C = TypeVar(\"C\")\n",
    "\n",
    "class EnvVar[T]:\n",
    "    @overload\n",
    "    def __init__(self: \"EnvVar[str | None]\", name: str) -> None: ...\n",
    "\n",
    "    @overload\n",
    "    def __init__(self: \"EnvVar[str]\", name: str, *, default: str) -> None: ...\n",
    "\n",
    "    @overload\n",
    "    def __init__(\n",
    "        self: \"EnvVar[C]\",\n",
    "        name: str,\n",
    "        *,\n",
    "        default: str | None = None,\n",
    "        converter: Callable[[str | None], C] | None = None,\n",
    "    ) -> None: ...\n",
    "\n",
    "    def __init__(\n",
    "        self,\n",
    "        name: str,\n",
    "        *,\n",
    "        default: str | None = None,\n",
    "        converter: Callable[[str | None], C] | None = None,\n",
    "    ) -> None:\n",
    "        self.name = name\n",
    "        self.default = default\n",
    "        self.converter = converter\n",
    "\n",
    "    @property\n",
    "    def value(self) -> T:\n",
    "        value = os.environ.get(self.name, self.default)\n",
    "\n",
    "        if self.converter:\n",
    "            return cast(T, self.converter(value))\n",
    "\n",
    "        return cast(T, value)\n",
    "\n",
    "\n",
    "def as_int(value: str | None) -> int:\n",
    "    return int(value) if value else 0\n",
    "\n"
   ]
  },
  {
   "cell_type": "code",
   "execution_count": 19,
   "id": "04ad3b64-7b6a-4295-8549-6f7ebecaef74",
   "metadata": {},
   "outputs": [
    {
     "data": {
      "text/plain": [
       "0"
      ]
     },
     "execution_count": 19,
     "metadata": {},
     "output_type": "execute_result"
    }
   ],
   "source": [
    "# this will be String in static type checker like mypy\n",
    "EnvVar(\"API_KEY\").value\n",
    "\n",
    "# this will be String in static type checker like mypy\n",
    "EnvVar(\"env\", default=\"production\").value\n",
    "\n",
    "# this will be Boolean in static type checker like mypy\n",
    "EnvVar(\"feature_x_enabled\", converter=bool).value\n",
    "\n",
    "# this will be int in static type checker like mypy\n",
    "EnvVar(\"no_od_days\", converter=as_int).value"
   ]
  },
  {
   "cell_type": "code",
   "execution_count": null,
   "id": "8bcb3e48-bab3-46d1-ae62-a8935b13768e",
   "metadata": {},
   "outputs": [],
   "source": []
  }
 ],
 "metadata": {
  "kernelspec": {
   "display_name": "Python 3 (ipykernel)",
   "language": "python",
   "name": "python3"
  },
  "language_info": {
   "codemirror_mode": {
    "name": "ipython",
    "version": 3
   },
   "file_extension": ".py",
   "mimetype": "text/x-python",
   "name": "python",
   "nbconvert_exporter": "python",
   "pygments_lexer": "ipython3",
   "version": "3.12.7"
  }
 },
 "nbformat": 4,
 "nbformat_minor": 5
}
